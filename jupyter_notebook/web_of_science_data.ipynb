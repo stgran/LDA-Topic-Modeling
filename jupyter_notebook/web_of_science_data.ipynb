{
 "cells": [
  {
   "cell_type": "markdown",
   "metadata": {},
   "source": [
    "# This code goes with my lda_topic_modeling code\n",
    "I got the data for this project from Web of Science, which I accessed through my university's libary.  \n",
    "\n",
    "Web of Science only allowed me to export 500 patents at a time. There were 3,475 for my particular search terms ('facial recognition') so I exported seven total files of patent data. This file quickly and easily combines the seven data files into one file. It also isolates and renames the columns I am interested in.\n",
    "\n",
    "For my purposes, I am only interested in patent abstracts, countries of origin, and application dates."
   ]
  },
  {
   "cell_type": "code",
   "execution_count": 9,
   "metadata": {},
   "outputs": [],
   "source": [
    "import pandas as pd\n",
    "import glob"
   ]
  },
  {
   "cell_type": "code",
   "execution_count": 2,
   "metadata": {},
   "outputs": [],
   "source": [
    "# This cell was taken from this website:\n",
    "# https://stackoverflow.com/questions/20906474/import-multiple-csv-files-into-pandas-and-concatenate-into-one-dataframe\n",
    "path = 'Downloads/wos_facial_recognition_data'\n",
    "all_files = glob.glob(path + '/*.txt')\n",
    "\n",
    "li = []\n",
    "\n",
    "for filename in all_files:\n",
    "    df = pd.read_csv(filename, sep='\\t', lineterminator='\\r', encoding='utf16', index_col=False, header=0)\n",
    "    li.append(df)\n",
    "\n",
    "frame = pd.concat(li, axis=0, ignore_index=True)"
   ]
  },
  {
   "cell_type": "code",
   "execution_count": 3,
   "metadata": {},
   "outputs": [],
   "source": [
    "data = [frame[' AB '], frame['PN '], frame[' PI ']]\n",
    "\n",
    "headers = ['abstract', 'PN', 'PI']\n",
    "\n",
    "clean_frame = pd.concat(data, axis=1, keys=headers)"
   ]
  },
  {
   "cell_type": "code",
   "execution_count": 4,
   "metadata": {},
   "outputs": [],
   "source": [
    "country = [pn[:2] for pn in clean_frame['PN']]\n",
    "\n",
    "clean_frame['country'] = country"
   ]
  },
  {
   "cell_type": "code",
   "execution_count": 5,
   "metadata": {},
   "outputs": [],
   "source": [
    "date = [pi[-11:] for pi in clean_frame['PI']]\n",
    "\n",
    "clean_frame['date'] = date\n",
    "\n",
    "month = [date[-8:] for date in clean_frame['date']]\n",
    "year = [date[-4:] for date in clean_frame['date']]\n",
    "\n",
    "clean_frame['month'] = month\n",
    "clean_frame['year'] = year"
   ]
  },
  {
   "cell_type": "code",
   "execution_count": 6,
   "metadata": {},
   "outputs": [],
   "source": [
    "clean_frame = clean_frame.drop(columns=['PN', 'PI'])"
   ]
  },
  {
   "cell_type": "code",
   "execution_count": 7,
   "metadata": {},
   "outputs": [
    {
     "data": {
      "text/html": [
       "<div>\n",
       "<style scoped>\n",
       "    .dataframe tbody tr th:only-of-type {\n",
       "        vertical-align: middle;\n",
       "    }\n",
       "\n",
       "    .dataframe tbody tr th {\n",
       "        vertical-align: top;\n",
       "    }\n",
       "\n",
       "    .dataframe thead th {\n",
       "        text-align: right;\n",
       "    }\n",
       "</style>\n",
       "<table border=\"1\" class=\"dataframe\">\n",
       "  <thead>\n",
       "    <tr style=\"text-align: right;\">\n",
       "      <th></th>\n",
       "      <th>abstract</th>\n",
       "      <th>country</th>\n",
       "      <th>date</th>\n",
       "      <th>month</th>\n",
       "      <th>year</th>\n",
       "    </tr>\n",
       "  </thead>\n",
       "  <tbody>\n",
       "    <tr>\n",
       "      <th>0</th>\n",
       "      <td>NOVELTY - The system comprises a financial ...</td>\n",
       "      <td>US</td>\n",
       "      <td>15 Nov 2018</td>\n",
       "      <td>Nov 2018</td>\n",
       "      <td>2018</td>\n",
       "    </tr>\n",
       "    <tr>\n",
       "      <th>1</th>\n",
       "      <td>NOVELTY - The method involves identifying a...</td>\n",
       "      <td>US</td>\n",
       "      <td>20 Nov 2018</td>\n",
       "      <td>Nov 2018</td>\n",
       "      <td>2018</td>\n",
       "    </tr>\n",
       "    <tr>\n",
       "      <th>2</th>\n",
       "      <td>NOVELTY - The method involves receiving (80...</td>\n",
       "      <td>US</td>\n",
       "      <td>20 Nov 2018</td>\n",
       "      <td>Nov 2018</td>\n",
       "      <td>2018</td>\n",
       "    </tr>\n",
       "    <tr>\n",
       "      <th>3</th>\n",
       "      <td>NOVELTY - The method involves for retrievin...</td>\n",
       "      <td>US</td>\n",
       "      <td>19 Nov 2018</td>\n",
       "      <td>Nov 2018</td>\n",
       "      <td>2018</td>\n",
       "    </tr>\n",
       "    <tr>\n",
       "      <th>4</th>\n",
       "      <td>NOVELTY - The method (400) involves assigni...</td>\n",
       "      <td>US</td>\n",
       "      <td>02 Aug 2019</td>\n",
       "      <td>Aug 2019</td>\n",
       "      <td>2019</td>\n",
       "    </tr>\n",
       "  </tbody>\n",
       "</table>\n",
       "</div>"
      ],
      "text/plain": [
       "                                            abstract country         date  \\\n",
       "0     NOVELTY - The system comprises a financial ...      US  15 Nov 2018   \n",
       "1     NOVELTY - The method involves identifying a...      US  20 Nov 2018   \n",
       "2     NOVELTY - The method involves receiving (80...      US  20 Nov 2018   \n",
       "3     NOVELTY - The method involves for retrievin...      US  19 Nov 2018   \n",
       "4     NOVELTY - The method (400) involves assigni...      US  02 Aug 2019   \n",
       "\n",
       "      month  year  \n",
       "0  Nov 2018  2018  \n",
       "1  Nov 2018  2018  \n",
       "2  Nov 2018  2018  \n",
       "3  Nov 2018  2018  \n",
       "4  Aug 2019  2019  "
      ]
     },
     "execution_count": 7,
     "metadata": {},
     "output_type": "execute_result"
    }
   ],
   "source": [
    "clean_frame.head()"
   ]
  },
  {
   "cell_type": "code",
   "execution_count": 8,
   "metadata": {},
   "outputs": [],
   "source": [
    "clean_frame.to_csv('Downloads/web_of_science_data.csv')"
   ]
  }
 ],
 "metadata": {
  "kernelspec": {
   "display_name": "Python 3",
   "language": "python",
   "name": "python3"
  },
  "language_info": {
   "codemirror_mode": {
    "name": "ipython",
    "version": 3
   },
   "file_extension": ".py",
   "mimetype": "text/x-python",
   "name": "python",
   "nbconvert_exporter": "python",
   "pygments_lexer": "ipython3",
   "version": "3.8.3"
  }
 },
 "nbformat": 4,
 "nbformat_minor": 4
}
